{
  "cells": [
    {
      "cell_type": "code",
      "execution_count": 50,
      "metadata": {},
      "outputs": [],
      "source": [
        "from sklearn.model_selection import train_test_split\n",
        "from sklearn.linear_model import LogisticRegression\n",
        "import pandas as pd\n",
        "\n",
        "import os\n",
        "import glob\n",
        "import argparse\n",
        "\n",
        "def main(args):\n",
        "    \n",
        "    # read data\n",
        "    df= get_csvs_df(args.training_data)\n",
        "    \n",
        "    #split data\n",
        "    X_train, X_test, y_train, y_test = split_data(df)\n",
        "    \n",
        "    # train model \n",
        "    train_model(args.reg_rate, X_train, X_test, y_train, y_test)\n",
        "    \n",
        "\n",
        "def get_csvs_df(path):\n",
        "    if not os.path.exists(path):\n",
        "        raise RuntimeError(f\"Cannot use non-existent path provided: {path}\")\n",
        "    csv_files= glob.glob(f\"{path}/*.csv\")\n",
        "    if not csv_files:\n",
        "        raise RuntimeError(f\"No CSV file found in provide data path: {path}\")\n",
        "        # df = pd.read_csv('data/diabetes.csv')\n",
        "    return pd.concat((pd.read_csv(f) for f in csv_files), sort=False)\n",
        "    \n",
        "    \n",
        "\n",
        "def split_data(df):\n",
        "    #splitdata\n",
        "    X, y = df[['Pregnancies','PlasmaGlucose','DiastolicBloodPressure','TricepsThickness','SerumInsulin','BMI','DiabetesPedigree','Age']].values, df['Diabetic'].values\n",
        "    X_train, X_test, y_train, y_test = train_test_split(X, y, test_size=0.30, random_state=0)\n",
        "\n",
        "    return X_train, X_test, y_train, y_test\n",
        "\n",
        "def train_model(reg_rate, X_train, X_test, y_train, y_test):\n",
        "    LogisticRegression(C=1/reg_rate, solver=\"liblinear\").fit(X_train, y_train)\n",
        "\n",
        "def parse_args():\n",
        "    #setup arg parser\n",
        "    parser = argparse.ArgumentParser()\n",
        "\n",
        "    # add arguments\n",
        "    parser.add_argument(\"--training_data\", dest='training_data',\n",
        "                        type=str)\n",
        "    parser.add_argument(\"--reg_rate\", dest='reg_rate',\n",
        "                        type=float, default=0.01)\n",
        "\n",
        "    # parse args\n",
        "    args = parser.parse_args()\n",
        "\n",
        "    # return args\n",
        "    return args\n",
        "\n",
        "# run script\n",
        "if __name__ == \"__main__\":\n",
        "    # add space in logs\n",
        "    print(\"\\n\\n\")\n",
        "    print(\"*\" * 60)\n",
        "\n",
        "    # parse args\n",
        "    args = parse_args()\n",
        "\n",
        "    # run main function\n",
        "    main(args)\n",
        "\n",
        "    # add space in logs\n",
        "    print(\"*\" * 60)\n",
        "    print(\"\\n\\n\")\n"
      ]
    }
  ],
  "metadata": {
    "kernel_info": {
      "name": "python38-azureml"
    },
    "kernelspec": {
      "display_name": "Python 3.8.9 ('mlops-poc': venv)",
      "language": "python",
      "name": "python3"
    },
    "language_info": {
      "codemirror_mode": {
        "name": "ipython",
        "version": 3
      },
      "file_extension": ".py",
      "mimetype": "text/x-python",
      "name": "python",
      "nbconvert_exporter": "python",
      "pygments_lexer": "ipython3",
      "version": "3.8.9"
    },
    "nteract": {
      "version": "nteract-front-end@1.0.0"
    },
    "vscode": {
      "interpreter": {
        "hash": "51c0e03b2b1a66a457079d452ecd4f2c0675e9c00ee0b382805673efb83510a2"
      }
    }
  },
  "nbformat": 4,
  "nbformat_minor": 0
}
